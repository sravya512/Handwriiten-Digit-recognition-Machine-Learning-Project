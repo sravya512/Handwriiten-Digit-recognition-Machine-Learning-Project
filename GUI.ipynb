{
 "cells": [
  {
   "cell_type": "code",
   "execution_count": 1,
   "id": "08ba3d3b",
   "metadata": {},
   "outputs": [
    {
     "name": "stdout",
     "output_type": "stream",
     "text": [
      "Collecting opencv-python==4.5.5.64\n",
      "  Using cached opencv_python-4.5.5.64-cp36-abi3-win_amd64.whl (35.4 MB)\n",
      "Requirement already satisfied: numpy>=1.17.3 in c:\\users\\sravya\\anaconda3\\envs\\ocr-venv\\lib\\site-packages (from opencv-python==4.5.5.64) (1.23.3)\n",
      "Installing collected packages: opencv-python\n",
      "  Attempting uninstall: opencv-python\n",
      "    Found existing installation: opencv-python 4.6.0.66\n",
      "    Uninstalling opencv-python-4.6.0.66:\n",
      "      Successfully uninstalled opencv-python-4.6.0.66\n",
      "Successfully installed opencv-python-4.5.5.64\n",
      "Note: you may need to restart the kernel to use updated packages.\n"
     ]
    }
   ],
   "source": [
    "pip install opencv-python==4.5.5.64"
   ]
  },
  {
   "cell_type": "code",
   "execution_count": 2,
   "id": "6de708e9",
   "metadata": {},
   "outputs": [
    {
     "name": "stdout",
     "output_type": "stream",
     "text": [
      "Model loaded successfully\n"
     ]
    }
   ],
   "source": [
    "from keras.models import load_model\n",
    "model = load_model('mnist.h5')\n",
    "print(\"Model loaded successfully\")"
   ]
  },
  {
   "cell_type": "code",
   "execution_count": 8,
   "id": "95b37723",
   "metadata": {},
   "outputs": [],
   "source": [
    "from PIL import ImageTk,Image,ImageDraw\n",
    "from keras.models import Sequential\n",
    "from keras.layers import Dense,Flatten\n",
    "model=Sequential()\n",
    "model.add(Flatten(input_shape=(28,28)))\n",
    "\n",
    "model.add(Dense(128,activation='relu'))\n",
    "model.add(Dense(64,activation='relu'))\n",
    "model.add(Dense(10,activation='softmax'))\n",
    "model.compile(loss='categorical_crossentropy',optimizer='adam',metrics=['accuracy'])"
   ]
  },
  {
   "cell_type": "code",
   "execution_count": 9,
   "id": "e31be041",
   "metadata": {},
   "outputs": [],
   "source": [
    "from keras.models import load_model\n",
    "from tkinter import *\n",
    "import tkinter as tk\n",
    "import win32gui\n",
    "from PIL import Image,ImageGrab,ImageDraw\n",
    "import numpy as np\n",
    "import cv2\n",
    "model.load_weights(\"C:/Users/SRAVYA/mnist.h5\",by_name=True)"
   ]
  },
  {
   "cell_type": "code",
   "execution_count": 10,
   "id": "e6e6a6b9",
   "metadata": {},
   "outputs": [
    {
     "name": "stdout",
     "output_type": "stream",
     "text": [
      "1/1 [==============================] - 0s 41ms/step\n",
      "1/1 [==============================] - 0s 20ms/step\n",
      "1/1 [==============================] - 0s 18ms/step\n",
      "1/1 [==============================] - 0s 20ms/step\n",
      "1/1 [==============================] - 0s 21ms/step\n"
     ]
    }
   ],
   "source": [
    "def event_function(event):\n",
    "    x=event.x;\n",
    "    y=event.y\n",
    "    x1=x-30\n",
    "    y1=y-30\n",
    "    x2=x+30\n",
    "    y2=y+30\n",
    "    canvas.create_oval((x1,y1,x2,y2),fill='black')\n",
    "    img_draw.ellipse((x1,y1,x2,y2),fill='white')\n",
    "def save():\n",
    "    global count\n",
    "    img_array=np.array(img)\n",
    "    img_array=cv2.resize(img_array,(28,28))\n",
    "    cv2.imwrite(str(count)+'.jpg',img_array)\n",
    "    count=count+1\n",
    "def clear():\n",
    "    global img,img_draw\n",
    "    canvas.delete('all')\n",
    "    img=Image.new('RGB',(500,500),(0,0,0))\n",
    "    img_draw=ImageDraw.Draw(img)\n",
    "    label_status.config(text='PREDICTED DIGIT: NONE')\n",
    "def predict():\n",
    "    img_array=np.array(img)\n",
    "    img_array=cv2.cvtColor(img_array,cv2.COLOR_BGR2GRAY)\n",
    "    img_array=cv2.resize(img_array,(28,28))\n",
    "    img_array=img_array/255.0\n",
    "    img_array=img_array.reshape(1,28,28)\n",
    "    result=model.predict(img_array)\n",
    "    label=np.argmax(result,axis=1)\n",
    "    label_status.config(text='PREDICTED DIGIT : '+str(label))\n",
    "count=0\n",
    "win=tk.Tk()\n",
    "canvas=tk.Canvas(win,width=500,height=500,bg='white')\n",
    "canvas.grid(row=0,column=0,columnspan=4)\n",
    "\n",
    "button_save=tk.Button(win,text='SAVE',bg='grey',fg='white',font='Helvetica 20 bold',command=save)\n",
    "button_save.grid(row=1,column=0)\n",
    "\n",
    "button_predict=tk.Button(win,text='PREDICT',bg='grey',fg='white',font='Helvetica 20 bold',command=predict)\n",
    "button_predict.grid(row=1,column=1)\n",
    "\n",
    "button_clear=tk.Button(win,text='CLEAR',bg='grey',fg='white',font='Helvetica 20 bold',command=clear)\n",
    "button_clear.grid(row=1,column=2)\n",
    "\n",
    "button_exit=tk.Button(win,text='EXIT',bg='grey',fg='white',font='Helvetica 20 bold',command=win.destroy)\n",
    "button_exit.grid(row=1,column=3)\n",
    "\n",
    "label_status=tk.Button(win,text='PREDICTED DIGIT',bg='grey',fg='white',font='Helvetica 20 bold')\n",
    "label_status.grid(row=2,column=0,columnspan=4)\n",
    "\n",
    "canvas.bind('<B1-Motion>',event_function)\n",
    "img=Image.new('RGB',(500,500),(0,0,0))\n",
    "img_draw=ImageDraw.Draw(img)\n",
    "win.mainloop()"
   ]
  },
  {
   "cell_type": "code",
   "execution_count": null,
   "id": "db318a00",
   "metadata": {},
   "outputs": [],
   "source": []
  }
 ],
 "metadata": {
  "kernelspec": {
   "display_name": "Python 3",
   "language": "python",
   "name": "python3"
  },
  "language_info": {
   "codemirror_mode": {
    "name": "ipython",
    "version": 3
   },
   "file_extension": ".py",
   "mimetype": "text/x-python",
   "name": "python",
   "nbconvert_exporter": "python",
   "pygments_lexer": "ipython3",
   "version": "3.8.8"
  }
 },
 "nbformat": 4,
 "nbformat_minor": 5
}
